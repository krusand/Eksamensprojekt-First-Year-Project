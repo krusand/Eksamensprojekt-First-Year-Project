{
 "cells": [
  {
   "cell_type": "code",
   "execution_count": 3,
   "metadata": {},
   "outputs": [
    {
     "ename": "AttributeError",
     "evalue": "'FeatureReader' object has no attribute '__compactness'",
     "output_type": "error",
     "traceback": [
      "\u001b[1;31m---------------------------------------------------------------------------\u001b[0m",
      "\u001b[1;31mAttributeError\u001b[0m                            Traceback (most recent call last)",
      "Cell \u001b[1;32mIn[3], line 7\u001b[0m\n\u001b[0;32m      1\u001b[0m \u001b[39mfrom\u001b[39;00m \u001b[39m_1features\u001b[39;00m \u001b[39mimport\u001b[39;00m FeatureReader\n\u001b[0;32m      4\u001b[0m FE \u001b[39m=\u001b[39m FeatureReader()\n\u001b[1;32m----> 7\u001b[0m FE\u001b[39m.\u001b[39;49m__compactness()\n",
      "\u001b[1;31mAttributeError\u001b[0m: 'FeatureReader' object has no attribute '__compactness'"
     ]
    }
   ],
   "source": [
    "from _1features import FeatureReader\n",
    "\n",
    "\n",
    "FE = FeatureReader()\n",
    "\n",
    "\n"
   ]
  }
 ],
 "metadata": {
  "kernelspec": {
   "display_name": "Python 3",
   "language": "python",
   "name": "python3"
  },
  "language_info": {
   "codemirror_mode": {
    "name": "ipython",
    "version": 3
   },
   "file_extension": ".py",
   "mimetype": "text/x-python",
   "name": "python",
   "nbconvert_exporter": "python",
   "pygments_lexer": "ipython3",
   "version": "3.11.2"
  },
  "orig_nbformat": 4
 },
 "nbformat": 4,
 "nbformat_minor": 2
}
